{
 "cells": [
  {
   "cell_type": "markdown",
   "metadata": {},
   "source": [
    "# Documentation\n",
    "\n",
    "**The package is under reconstruction. Documentation applies to new release only. For old version, see the main page.**\n",
    "**The documentation is in development.**\n",
    "\n",
    "Welcome to `lingcorpora`'s documentation. In order to get started, see [Installation](#installation) and then proceed to [Quickstart](#quickstart). For parameter description, see [Making queries](#making-queries). To obtain description of our `Target` and `Result` objects, go to [Working with results](#working-with-results).\n",
    "\n",
    "* [Installation](#installation)\n",
    "* [Quickstart](#quickstart)\n",
    "* [Making queries](#making-queries)\n",
    "  * [Corpora](#corpora)\n",
    "* [Working with results](#working-with-results)\n",
    "\n",
    "## Installation\n",
    "\n",
    "To install `lingcorpora`, type in the terminal:\n",
    "```\n",
    "pip install lingcorpora\n",
    "```\n",
    "lingcorpora has dependencies on:\n",
    "* [Beautiful Soup](https://www.crummy.com/software/BeautifulSoup/)\n",
    "* [lxml](http://lxml.de)\n",
    "* [requests](http://docs.python-requests.org/en/master/)\n",
    "* [tqdm](https://github.com/tqdm/tqdm)\n",
    "\n",
    "`lingcorpora` will install these packages during installation. If you have troubles with installing dependencies, check Installation section in the documentation of the according packages.\n",
    "\n",
    "## Quickstart\n",
    "\n",
    "To search in any corpus, you need to create an instance of `Corpus` object and use method `search`:"
   ]
  },
  {
   "cell_type": "code",
   "execution_count": 10,
   "metadata": {
    "collapsed": false
   },
   "outputs": [
    {
     "name": "stderr",
     "output_type": "stream",
     "text": [
      "\"мешок\": 100%|███████████████████████████████| 10/10 [00:03<00:00,  2.89docs/s]\n"
     ]
    },
    {
     "data": {
      "text/plain": [
       "[Result(query=мешок, N=10, params={'numResults': 10, 'kwic': True, 'nLeft': None, 'nRight': None, 'targetLanguage': None, 'subcorpus': 'main', 'tag': False, 'ana': False, 'mode': None, 'start': 0, 'writingSystem': None})]"
      ]
     },
     "execution_count": 10,
     "metadata": {},
     "output_type": "execute_result"
    }
   ],
   "source": [
    "from lingcorpora import Corpus\n",
    "rus_corp = Corpus('rus')\n",
    "rus_results = rus_corp.search('мешок', numResults = 10)\n",
    "rus_results"
   ]
  },
  {
   "cell_type": "markdown",
   "metadata": {},
   "source": [
    "All results are stored in the `Result` object. `Result` is the list of `Target` objects. To print the data, you can use the following code:"
   ]
  },
  {
   "cell_type": "code",
   "execution_count": 4,
   "metadata": {
    "collapsed": false,
    "scrolled": true
   },
   "outputs": [
    {
     "name": "stdout",
     "output_type": "stream",
     "text": [
      "1 ('что если они кому-нибудь отсыпят', 'мешок', 'золота, то можно всех пригласить?')\n",
      "2 ('просто некогда, и которые за', 'мешок', 'с пивом лихо ставили не')\n",
      "3 ('))) И', 'мешок', 'для сменки Немо, и рюкзак,')\n",
      "4 ('Можешь использовать', 'мешок', 'многократно, простирывая после каждой варки')\n",
      "5 ('И этот', 'мешок', '― как скатерть-самобранка; в нём')\n",
      "6 ('Наверняка пойдёт на дно, как', 'мешок', 'с песком!\"')\n",
      "7 ('снёс за борт, как большой', 'мешок', 'с песком.')\n",
      "8 ('невесомости воздуха взвешивал пустой кожаный', 'мешок', 'и тот же мешок, наполненный')\n",
      "9 ('кожаный мешок и тот же', 'мешок', ',наполненный воздухом.')\n",
      "10 ('со стороны воздуха на раздутый', 'мешок', '.')\n"
     ]
    }
   ],
   "source": [
    "for result in rus_results:\n",
    "    for i,target in enumerate(result):\n",
    "        print(i+1,target.text)"
   ]
  },
  {
   "cell_type": "markdown",
   "metadata": {},
   "source": [
    "Output can be transformed to `kwic` format:"
   ]
  },
  {
   "cell_type": "code",
   "execution_count": 6,
   "metadata": {
    "collapsed": false
   },
   "outputs": [
    {
     "name": "stdout",
     "output_type": "stream",
     "text": [
      "1 что если они кому-нибудь отсыпят\tмешок\tзолота, то можно всех пригласить?\n",
      "2 просто некогда, и которые за\tмешок\tс пивом лихо ставили не\n",
      "3 ))) И\tмешок\tдля сменки Немо, и рюкзак,\n",
      "4 Можешь использовать\tмешок\tмногократно, простирывая после каждой варки\n",
      "5 И этот\tмешок\t― как скатерть-самобранка; в нём\n",
      "6 Наверняка пойдёт на дно, как\tмешок\tс песком!\"\n",
      "7 снёс за борт, как большой\tмешок\tс песком.\n",
      "8 невесомости воздуха взвешивал пустой кожаный\tмешок\tи тот же мешок, наполненный\n",
      "9 кожаный мешок и тот же\tмешок\t,наполненный воздухом.\n",
      "10 со стороны воздуха на раздутый\tмешок\t.\n"
     ]
    }
   ],
   "source": [
    "for result in rus_results:\n",
    "    for i,target in enumerate(result):\n",
    "        print(i+1,'\\t'.join(target.kwic(left=5,right=5)))"
   ]
  },
  {
   "cell_type": "markdown",
   "metadata": {},
   "source": [
    "You can search by multiple queries:"
   ]
  },
  {
   "cell_type": "code",
   "execution_count": 3,
   "metadata": {
    "collapsed": false
   },
   "outputs": [
    {
     "name": "stderr",
     "output_type": "stream",
     "text": [
      "Query \"сумка\": 100%|█████████████████████████| 10/10 [00:03<00:00,  2.52docs/s]\n",
      "Query \"мешок\": 100%|█████████████████████████| 10/10 [00:04<00:00,  2.30docs/s]\n"
     ]
    },
    {
     "name": "stdout",
     "output_type": "stream",
     "text": [
      "1  При этом у меня ещё была тяжеленная сумка и чужой дорогой фотоаппарат.. \n",
      "2  И вдруг увидела, что её сумка разрезана. \n",
      "3  Господин Эрмес-Дюма мягко намекнул Джейн, что её сумка для ручной клади ― эта была плетёная корзинка в стиле \"воронье гнездо\" ― выглядит как-то… ну, неподобающим для известной актрисы образом. \n",
      "4  Простая на первый взгляд, классическая сумка стоит от $ 6 тысяч (хм, мог бы получиться неплохой автомобиль!), а чтобы её купить, нужно ждать от шести месяцев до двух лет, встав на waitlist! \n",
      "5  За что сумка Birkin такая дорогая и отчего каждые девять секунд в мире кто-нибудь покупает платок-каре от Hermes? \n",
      "6  Кроме того что эту сумочку обожала принцесса Грейс Келли и везде с ней появлялась, смотреть там особо не на что: простая классическая кожаная сумка, стоит при этом $ 12 тысяч (хм, мог бы получиться неплохой автомобиль!), а чтобы стать её обладательницей, нужно ждать минимум два года, встав на wait- list― и в очередь ещё не всех берут! \n",
      "7   Новая сумка Dado из телячьей кожи ― несмотря на свои мягкие очертания, сумка не потеряет формы благодаря особой технологии \n",
      "8   Новая сумка Dado из телячьей кожи ― несмотря на свои мягкие очертания, сумка не потеряет формы благодаря особой технологии \n",
      "9  Спина у него была всего одна, и на ней уже громоздился вещмешок с толом и гранатами, плечо давила увесистая санитарная сумка, в руках он держал винтовку. \n",
      "10  Санитарная сумка немного давила его плечо, но уж как-нибудь он её донесёт. \n",
      "\n",
      "1  [lafet, nick]   «Считают, что если они кому-нибудь отсыпят мешок золота, то можно всех пригласить? \n",
      "2  [Hamlet, nick]   ещё добрые преподы, которым просто некогда, и которые за мешок с пивом лихо ставили не самые плохие оценки всей группе ^ Но, но, но… \n",
      "3  ))) И мешок для сменки Немо, и рюкзак, и пеналы-ручки-тетрадки. \n",
      "4  Можешь использовать мешок многократно, простирывая после каждой варки с мылом, но только не в стиральном порошке. \n",
      "5  И этот мешок ― как скатерть-самобранка; в нём всё прибывает орехов. \n",
      "6  Наверняка пойдёт на дно, как мешок с песком!\" \n",
      "7   Капитан-шеф-повар побежал было на нос, чтобы увести Эле-Фантика Но как раз в этот миг налетел девятый вал и, подстегиваемый ураганом, рухнул, как девятиэтажный дом, точно на слонёнка - ослепил, оглушил, закрутил в водовороте и снёс за борт, как большой мешок с песком. \n",
      "8   8. 39. Древнегреческий учёный Аристотель для доказательства невесомости воздуха взвешивал пустой кожаный мешок и тот же мешок, наполненный воздухом. \n",
      "9   8. 39. Древнегреческий учёный Аристотель для доказательства невесомости воздуха взвешивал пустой кожаный мешок и тот же мешок, наполненный воздухом. \n",
      "10   8. 39. Потому что вес мешка с воздухом увеличивался на столько, на сколько увеличивалась выталкивающая сила, действующая со стороны воздуха на раздутый мешок. \n",
      "\n"
     ]
    }
   ],
   "source": [
    "rus_results = rus_corp.search(['сумка','мешок'], numResults = 10)\n",
    "for result in rus_results:\n",
    "    for i,target in enumerate(result):\n",
    "        print(i+1,target.text)\n",
    "    print()"
   ]
  },
  {
   "cell_type": "markdown",
   "metadata": {},
   "source": [
    "## Making queries\n",
    "\n",
    "At first, an instance of `Corpus` object should be created. \n",
    "\n",
    "### lingcorpora.Corpus\n",
    "\n",
    "lingcorpora.Corpus(language, sleep_time=1, sleep_each=5)\n",
    "\n",
    "#### Attributes\n",
    "* **language**: str: in most cases, language [ISO 639-3 code](https://en.wikipedia.org/wiki/List_of_ISO_639-1_codes) for the corpus with combined codes for parallel corpora. List of available corpora with corresponding codes:\n",
    "\n",
    "| Code         | Corpus                                                                        |\n",
    "|--------------|-------------------------------------------------------------------------------|\n",
    "| bam          | [Corpus Bambara de Reference](#corpus-bambara-de-reference)                   |\n",
    "| emk          | [Maninka Automatically Parsed corpus](#maninka-automatically-parsed-corpus)   |\n",
    "| rus          | [National Corpus of Russian Language](#national-corpus-of-russian-language)   |\n",
    "| rus_parallel | [Parallel subcorpus of National Corpus of Russian Language](#parallel-subcorpus-of-national-corpus-of-russian-language) |\n",
    "| zho          | [Center of Chinese Linguistics corpus](#center-of-chinese-linguistics-corpus) |\n",
    "\n",
    "* **sleep_time**: int, optional, default 1: the length of pause between requests to the corpus (in seconds). It is required to avoid blocking and corpus breakdown.\n",
    "* **sleep_each**: int, optional, default 5: the number of requests after which a pause is required.\n",
    "* **doc**: str: documentation for chosen corpus (after instance creation).\n",
    "* **results**: list: list of all `Result` objects, each returned by `search` method.\n",
    "* **failed**: list: list of `Result` objects where nothing was found.\n",
    "\n",
    "#### lingcorpora.Corpus.search(query, \\*args, \\*\\*kwargs)\n",
    "\n",
    "This is a search function that queries the corpus and returns the results.\n",
    "\n",
    "##### Arguments\n",
    "\n",
    "Here we provide a comprehensive list of arguments, although not all arguments are applicable to all corpora and the default values depend on a corpus. For specific description, go to [Corpora](#сorpora) subsection.\n",
    "\n",
    "Two arguments are universal:\n",
    "\n",
    "* **query**: str or list[str]: query or queries\n",
    "* **numResults**: int, optional, default 100: number of results wanted\n",
    "\n",
    "Other depend on the corpus:\n",
    "\n",
    "* **kwic**: boolean, optional, default True: whether to make a request to `kwic` format in the corpus\n",
    "* **nLeft**: int, optional: number of words / symbols (corpus-specific) in the left context\n",
    "* **nRight**: int, optional: number of words / symbols (corpus-specific) in the right context\n",
    "* **targetLanguage**: str, optional: for parallel corpora, target language\n",
    "* **subcorpus**: str, optional: subcorpus to search in\n",
    "* **tag**: boolean, optional, default False: whether to download grammatical information if the corpus is annotated\n",
    "* **mode**: str, optional: mode of the query (regular or pattern)\n",
    "* **writingSystem**: str, optional: writing system of results\n",
    "\n",
    "##### Output\n",
    "\n",
    "* **Result**: list: resuls for queries in current search\n",
    "\n",
    "`search` returns the result of current query and adds it to `results` attribute of corresponding `Corpus` object. In the following example, `first_result` and `second_result` contain results of two queries (the second consists of two `Result` objects), whereas `bam_corp.results` contains all results obtained from the corpus."
   ]
  },
  {
   "cell_type": "code",
   "execution_count": 8,
   "metadata": {
    "collapsed": false,
    "scrolled": true
   },
   "outputs": [
    {
     "name": "stderr",
     "output_type": "stream",
     "text": [
      "Query \"jamana\": 100%|████████████████████████| 10/10 [00:02<00:00,  3.92docs/s]\n"
     ]
    },
    {
     "name": "stdout",
     "output_type": "stream",
     "text": [
      "[Result(query=jamana, N=10, params={'query': 'jamana', 'numResults': 10, 'kwic': True, 'nLeft': None, 'nRight': None, 'targetLanguage': None, 'subcorpus': 'corbama-net-non-tonal', 'tag': False, 'ana': False, 'mode': None, 'start': 0, 'writingSystem': None, 'viewmode': 'kwic', 'pagenum': 1})]\n"
     ]
    },
    {
     "name": "stderr",
     "output_type": "stream",
     "text": [
      "Query \"kuma\": 100%|██████████████████████████| 10/10 [00:02<00:00,  3.80docs/s]\n",
      "Query \"fɔra\": 100%|██████████████████████████| 10/10 [00:02<00:00,  3.83docs/s]\n"
     ]
    },
    {
     "name": "stdout",
     "output_type": "stream",
     "text": [
      "[Result(query=kuma, N=10, params={'query': 'kuma', 'numResults': 10, 'kwic': True, 'nLeft': None, 'nRight': None, 'targetLanguage': None, 'subcorpus': 'corbama-net-non-tonal', 'tag': False, 'ana': False, 'mode': None, 'start': 0, 'writingSystem': None, 'viewmode': 'kwic', 'pagenum': 1}), Result(query=fɔra, N=10, params={'query': 'fɔra', 'numResults': 10, 'kwic': True, 'nLeft': None, 'nRight': None, 'targetLanguage': None, 'subcorpus': 'corbama-net-non-tonal', 'tag': False, 'ana': False, 'mode': None, 'start': 0, 'writingSystem': None, 'viewmode': 'kwic', 'pagenum': 1})]\n"
     ]
    },
    {
     "data": {
      "text/plain": [
       "[Result(query=jamana, N=10, params={'query': 'jamana', 'numResults': 10, 'kwic': True, 'nLeft': None, 'nRight': None, 'targetLanguage': None, 'subcorpus': 'corbama-net-non-tonal', 'tag': False, 'ana': False, 'mode': None, 'start': 0, 'writingSystem': None, 'viewmode': 'kwic', 'pagenum': 1}),\n",
       " Result(query=kuma, N=10, params={'query': 'kuma', 'numResults': 10, 'kwic': True, 'nLeft': None, 'nRight': None, 'targetLanguage': None, 'subcorpus': 'corbama-net-non-tonal', 'tag': False, 'ana': False, 'mode': None, 'start': 0, 'writingSystem': None, 'viewmode': 'kwic', 'pagenum': 1}),\n",
       " Result(query=fɔra, N=10, params={'query': 'fɔra', 'numResults': 10, 'kwic': True, 'nLeft': None, 'nRight': None, 'targetLanguage': None, 'subcorpus': 'corbama-net-non-tonal', 'tag': False, 'ana': False, 'mode': None, 'start': 0, 'writingSystem': None, 'viewmode': 'kwic', 'pagenum': 1})]"
      ]
     },
     "execution_count": 8,
     "metadata": {},
     "output_type": "execute_result"
    }
   ],
   "source": [
    "bam_corp = Corpus('bam')\n",
    "\n",
    "first_result = bam_corp.search('jamana', numResults = 10)\n",
    "print(first_result)\n",
    "second_result = bam_corp.search(['kuma','fɔra'], numResults = 10)\n",
    "print(second_result)\n",
    "\n",
    "bam_corp.results"
   ]
  },
  {
   "cell_type": "markdown",
   "metadata": {},
   "source": [
    "#### lingcorpora.Corpus.retry_failed()\n",
    "\n",
    "This function redoes queries that returned empty results.\n",
    "\n",
    "##### Arguments\n",
    "There are no arguments, failed queries are taken from `failed` attribute of the `Corpus` instance.\n",
    "\n",
    "##### Output\n",
    "List of `Result` objects for which the second try was successful. It also appends successful results to the `results` attribute of the `Corpus` instance and rewrites `failed` attribute with queries that remained unsuccessful.\n",
    "\n",
    "### Corpora\n",
    "\n",
    "#### [Corpus Bambara de Reference](http://maslinsky.spb.ru/bonito/run.cgi/first_form)\n",
    "##### Relevant parameters\n",
    "* **query**: str or list[str]: query or queries (currently only exact search by word or phrase is available)\n",
    "* **numResults**: int, default 100: number of results wanted\n",
    "* **kwic**: boolean, default True: whether to request the corpus for kwic format (True) or a sentence (False)\n",
    "* **tag**: boolean, default False: whether to collect grammatical tags for target word or not (available only for `corbama-net-non-tonal` subcorpus)\n",
    "* **subcorpus**: str, default `corbama-net-non-tonal`: subcorpus. Available options: `corbama-net-non-tonal`, `corbama-net-tonal`, `corbama-brut`\n",
    "\n",
    "##### Example of use"
   ]
  },
  {
   "cell_type": "code",
   "execution_count": 20,
   "metadata": {
    "collapsed": false
   },
   "outputs": [
    {
     "name": "stderr",
     "output_type": "stream",
     "text": [
      "Query \"kɔ́nɔ\": 100%|█████████████████████████| 10/10 [00:02<00:00,  4.21docs/s]\n"
     ]
    },
    {
     "name": "stdout",
     "output_type": "stream",
     "text": [
      "1 à fɔra kó mɔ̀gɔ sí kànâ táa kúngo kɔ́nɔ sélidonya fɛ̀ . àlê y' í túgu kà\n",
      "2 y' í túgu kà táa . à sélen kúngo kɔ́nɔ , à y' à sɔ̀rɔ warabilenw bɛ́ tulonkɛ\n",
      "3 fɔɲi-fɔɲi » . npogotiginin seginna dùgu kɔ́nɔ , k' ò ɲɛ́fɔ à bá yé . kàbini\n",
      "4 kà kɛ́ wárabilen yé , kà táa kúngo kɔ́nɔ . ò kɔ́ , dùgu denmisɛnw bɛ́ɛ ye\n",
      "5 kà kɛ́ warabilenw yé , kà táa kúngo kɔ́nɔ . Dugumɔgɔw bɛ́ɛ yɛlɛmana kà kɛ́ warabilenw\n",
      "6 dá . jùla dɔw tɛ̀mɛntɔ dùgu ìn kɔ́nɔ , ù kabakoyara kà mùsokɔrɔba ìn kélen\n",
      "7 mùsokɔrɔba kó , kó dénnin dɔ́ taara kúngo kɔ́nɔ sélidonya fɛ̀ . à ye warabilenw sɔ̀rɔ\n",
      "8 lá . kàbini dénnin ìn seginna dùgu kɔ́nɔ kà sègin dɔ̀nkili ìn kàn à bá yé\n",
      "9 yɛlɛmana kà kɛ́ wárabilen yé kà táa kúngo kɔ́nɔ . ò kɔ́ , dùgu mɔgɔw ye dɔ̀nkili ìn\n",
      "10 yɛlɛmana kà kɛ́ wárabilen yé kà táa kúngo kɔ́nɔ . ǹka , nê ma sɔ̀n kà à dá , ò dè\n"
     ]
    }
   ],
   "source": [
    "corp = Corpus('bam')\n",
    "results = corp.search('kɔ́nɔ', numResults = 10, subcorpus='corbama-net-tonal')\n",
    "for result in results:\n",
    "    for i,target in enumerate(result):\n",
    "        print(i+1,target.text)"
   ]
  },
  {
   "cell_type": "markdown",
   "metadata": {},
   "source": [
    "#### [Maninka Automatically Parsed corpus](http://maslinsky.spb.ru/emk/run.cgi/first_form)\n",
    "##### Relevant parameters\n",
    "* **query**: str or list[str]: query or queries (currently only exact search by word or phrase is available)\n",
    "* **numResults**: int, default 100: number of results wanted\n",
    "* **kwic**: boolean, default True: whether to request the corpus for kwic format (True) or a sentence (False)\n",
    "* **subcorpus**: str, default `cormani-brut-lat`: subcorpus. Available options: `cormani-brut-lat`, `corbama-brut-nko`\n",
    "* **writingSystem**: str, default `None`: writing system for examples. Available options: `nko`, `latin`. Bug: only `latin` for `corbama-brut-nko` subcorpus.\n",
    "\n",
    "##### Example of use"
   ]
  },
  {
   "cell_type": "code",
   "execution_count": 19,
   "metadata": {
    "collapsed": false
   },
   "outputs": [
    {
     "name": "stderr",
     "output_type": "stream",
     "text": [
      "Query \"tuma bɛɛ\": 100%|██████████████████████| 10/10 [00:02<00:00,  4.30docs/s]\n"
     ]
    },
    {
     "name": "stdout",
     "output_type": "stream",
     "text": [
      "1 ߁߄ ߊߟߎ ߕߍߘߍ ߊߟߎ ߟߊߘߍߟߊ ߊߟߟߊ ߕߊߙߊ ߞߊ߲ߡߊ ߕߎߡߊ ߓߍ߯ .\n",
      "2 ‹ ߣ ߞߊ ߝߊ߯ߡߊ ߦߋ ߣ ߢߍ ߕߎߡߊ ߓߍ߯ .\n",
      "3 ߊߟߎ ߞߊ߲ ߞߏ : « ߗߍ ߣߌ߲ ߦߋ ߞߎߡߊ ߖߎ߯ ߝߐߟߊ ߦߐߙߐ ߛߊߣߌߡߊ߲ ߣߌ߲ ߡߊ ߕߎߡߊ ߓߍ߯ , ߞߊ ߞߎߡߊ ߖߎ߯ ߝߐ ߞߋߟߊ ߡߎߛߊ ߟߊ ߛߊߙߌߦߊ ߝߊߣߊ߲ ߡߊ .\n",
      "4 ߁ ߥߏ ߕߎߡߊ , ߛߐߟߌ ߕߍߘߍ ߝߊ߯ߡߊ ߌߛߊ ߟߊ ߞߊߙߊ߲ߘߋ߲ߣߎ ߟߊ ߢߊߣߊߡߊߦߊ ߡߊߛߌߟߊ߲ߣߊ ߕߎߡߊ ߓߍ߯ .\n",
      "5 ߡߏߛߏ ߥߏ ߕߍߘߍ ߞߏߢߎߡߊ ߞߍߟߊ ߕߎߡߊ ߓߍ߯ ߞߊ ߝߊ߲ߕߊ߲ߣߎ ߘߍߡߍ߲ .\n",
      "6 ߊ ߕߍߘߍ ߦߊߤߎߘߌߦߊ ߝߊ߲ߕߊ߲ߣߎ ߛߐߟߊ ߞߏߛߍߓߍ , ߞߊ ߊߟߟߊ ߕߊߙߊ ߕߎߡߊ ߓߍ߯ .\n",
      "7 ߁߇ ߞߐߣߌ߲ ߊ ߕߍߘߍ ߊ ߖߍߘߍ ߦߌߘߊߞߊߟߊ ߊߟߎ ߟߊ ߕߎߡߊ ߓߍ߯ ߊߟߊ ߞߋߥߊߟߌߢߎߡߊߟߎ ߝߍ .\n",
      "8 ߁߆ ߥߏ ߟߋ ߘߐ , ߣ ߦߋ ߣ ߘߐߖߊߟߊ ߕߎߡߊ ߓߍ߯ ߛߊ ߣ ߞߐߣߐߜߍߦߊߣߍ߲ ߘߌ ߕߏ .\n",
      "9 ߥߏ ߟߋ ߘߐ , ߊ ߕߍߘߍ ߔߐߟߌ ߞߌߟߌߟߊ ߕߎߡߊ ߓߍ߯ ߞߊ ߓߊߘߏ ߞߍ ߊ ߝߍ .\n",
      "10 ߂߉ ߣ ߦߋ ߊ ߝߍ ߟߋ ߖߎߛߎ ߥߏ ߢߐ߲߰ ߦߋ ߞߍ ߊߟߎ ߓߏߟߏ ߕߎߡߊ ߓߍ߯ ߞߊ ߛߌߟߊ߲ ߣ ߢߍ ߞߊ ߣߣߊ ߖߊߡߊߙߌߟߌߟߎ ߓߍ߯ ߟߊߕߋߟߋ߲ , ߛߊ ߊߟߎ ߣߌ ߊߟߎ ߞߐߡߐ߰ߟߎ ߓߍ߯ ߘߌ ߤߍߙߍ ߛߐߘߐ߲ ߞߊߘߊߥߎ .\n"
     ]
    }
   ],
   "source": [
    "corp = Corpus('emk')\n",
    "results = corp.search('tuma bɛɛ', numResults = 10, writingSystem='nko', kwic=False)\n",
    "for result in results:\n",
    "    for i,target in enumerate(result):\n",
    "        print(i+1,target.text)"
   ]
  },
  {
   "cell_type": "markdown",
   "metadata": {},
   "source": [
    "#### [National Corpus of Russian Language](http://ruscorpora.ru)\n",
    "##### Relevant parameters\n",
    "* **query**: str or list[str]: query or queries (currently only exact search by word or phrase is available)\n",
    "* **numResults**: int, default 100: number of results wanted\n",
    "* **tag**: boolean, default False: whether to collect grammatical tags for target word or not\n",
    "* **subcorpus**: str, default `main`: subcorpus. Available options:`main`, `syntax`, `paper`, `regional`, `school`, `dialect`, `poetic`, `spoken`, `accent`, `murco`, `multiparc`, `old_rus`, `birchbark`, `mid_rus`, `orthlib`.\n",
    "\n",
    "##### Example of use"
   ]
  },
  {
   "cell_type": "code",
   "execution_count": 18,
   "metadata": {
    "collapsed": false
   },
   "outputs": [
    {
     "name": "stderr",
     "output_type": "stream",
     "text": [
      "Query \"сердце\": 100%|████████████████████████| 10/10 [00:02<00:00,  3.34docs/s]\n"
     ]
    },
    {
     "name": "stdout",
     "output_type": "stream",
     "text": [
      "1   Не будильник поставлен на шесть,  а колотится сердце быстрей. \n",
      "2   Да и сердце легче бьется ― поддается уговорам. \n",
      "3   Прелесть, от нее дрожит сердце возле птиц или ночниц бледных. \n",
      "4   Чтоб они стали перинами белыми с мягкой опорой на дне,  и невредимыми съехали, целыми дети на той стороне.   Сердце привязано ниткой невидимой.   Нить коротка, а земля велика. \n",
      "5   Моя мама умерла девятого мая, когда всюду день-деньской надрывают сердце «аты-баты» ― коллективный катарсис такой. \n",
      "6  Чтобы скорей, скорей горло его достать.   Сердце его потрогать. \n",
      "7   И ― прочь через площадь в закатных лучах В какой-нибудь Чехии, Польше… Разбитое сердце, своя голова на плечах ― Чего тебе больше? \n",
      "8   «Хотел бы я знать, если Бог повелит,  О чем твое старое сердце болит». \n",
      "9   Когда уйдет последний друг И в сердце перемрут подруги,  Я очерчу незримый круг И лиру заключу в том круге. \n",
      "10   О том не надо вспоминать,  Но что-то в сердце изломилось:  ― Не узнаю родную мать. \n"
     ]
    }
   ],
   "source": [
    "corp = Corpus('rus')\n",
    "results = corp.search('сердце', numResults = 10, subcorpus='poetic')\n",
    "for result in results:\n",
    "    for i,target in enumerate(result):\n",
    "        print(i+1,target.text)"
   ]
  },
  {
   "cell_type": "markdown",
   "metadata": {},
   "source": [
    "#### [Parallel subcorpus of National Corpus of Russian Language](http://ruscorpora.ru/search-para-multi.html)\n",
    "##### Relevant parameters\n",
    "* **query**: str or list[str]: query or queries (currently only exact search by word or phrase is available)\n",
    "* **numResults**: int, default 100: number of results wanted\n",
    "* **tag**: boolean, default False: whether to collect grammatical tags for target word or not\n",
    "* **subcorpus**: str, default `rus` (search by all target languages): subcorpus. Available options: `rus`, `eng`, `bel`, `bul`, `bua`, `esp`, `ita`,`zho`, `lav`, `ger`, `pol`, `ukr`, `fra`, `sve`, `est`.\n",
    "\n",
    "##### Example of use"
   ]
  },
  {
   "cell_type": "code",
   "execution_count": 6,
   "metadata": {
    "collapsed": false,
    "scrolled": false
   },
   "outputs": [
    {
     "name": "stderr",
     "output_type": "stream",
     "text": [
      "\"авось\": 100%|███████████████████████████████| 10/10 [00:02<00:00,  4.01docs/s]\n"
     ]
    },
    {
     "name": "stdout",
     "output_type": "stream",
     "text": [
      "1 – Русский человек крепок на трех сваях – «авось», «небось» и «как-нибудь». \n",
      " — Un Russe, ça tient sur trois béquilles: “on sait jamais”, “on verra bien”, et “on s'en sortira toujours”.\n",
      "2 – Я признаться уж не верю-с… – Порфирий Петрович махнул рукой. – Ничего мы тут не зацепим. Кругом одна безнадежность… А впрочем сходите.    Авось вам больше моего повезет.    И ведь как в воду смотрел. \n",
      " – Да ви кажа, не ми се вярва… – Порфирий Петрович махна с ръка. – И нищо няма да излезе от цялата работа Съвсем безнадежден случай… Но впрочем идете.    Може да извадите по-голям късмет от мен.    И позна.\n",
      "3 Русский злодей горяч и нерасчетлив, крушит на авось. \n",
      " Руският злодей е пламенен и недалновиден, убива както дойде.\n",
      "4 Во-первых, преступление все-таки оказалось не европейское, а русское, на авось. \n",
      " Първо, престъплението се оказа все пак не европейско, а руско, стремглаво.\n",
      "5 Да еще нумер каждому проставьте.    Ничего, авось не перепутаем-с.    Я их всех уж наизусть успел выучить. \n",
      " И сложете на всекиго номер.    Да се надяваме, че няма да ги объркаме.    Вече ги научих всички наизуст.\n",
      "6 Никто, естественно, не запретит вашей милости кропать новые эпистолы, ибо капля камень точит, как знать, авось кто-нибудь из кардиналов наконец поддастся, возможно, меня наконец отзовут. \n",
      " Nikt, rzecz jasna, nie zabroni waszej dostojności słać dalszych epistoł, kropla wszak drąży skałę, kto wie, może któryś z kardynałów wreszcie ulegnie, może wreszcie mnie odwołają?\n",
      "7 Положение его, конечно, аховое, но в глубине сознания все-таки теплилась маленькая надежда.    На авось или, может, на чудо.    Когда другого не находилось, обычно полагались на чудо, так было всегда. \n",
      " Становішча яго, канешне, было зусім ахавае, хаця ў глыбіні сьвядомасьці ўсё ж таілася маленькая спадзёўка.    На авось ці, можа, на цуд.    Калі іншага не было, звычайна спадзяваліся на цуд, мабыць, так было заўжды.\n",
      "8 Положение его, конечно, аховое, но в глубине сознания все-таки теплилась маленькая надежда.    На авось или, может, на чудо.    Когда другого не находилось, обычно полагались на чудо, так было всегда. \n",
      " Становішча яго, канешне, было зусім ахавае, хаця ў глыбіні сьвядомасьці ўсё ж таілася маленькая спадзёўка.    На авось ці, можа, на цуд.    Калі іншага не было, звычайна спадзяваліся на цуд, мабыць, так было заўжды.\n",
      "9 Чудо, конечно, выручало редко, больше подводило, особенно атеистов-большевиков, которые теперь так дружно стали взывать к христианскому чуду.    Авось выручит!    ― \n",
      " Цуд, вядома, памагаў рэдка, болей падводзіў, асабліва атэістаў-бальшавікоў, якія, быццам не ведаючы таго, цяпер так дружна рушылі да хрысьціянскіх цудаў.    Авось паможа!    Калі памаліцца Богу, абразам, паклікаць царкоўных іерархаў на шматлюдныя прапагандовыя шоу.\n",
      "10 Чудо, конечно, выручало редко, больше подводило, особенно атеистов-большевиков, которые теперь так дружно стали взывать к христианскому чуду.    Авось выручит!    ― \n",
      " Цуд, вядома, памагаў рэдка, болей падводзіў, асабліва атэістаў-бальшавікоў, якія, быццам не ведаючы таго, цяпер так дружна рушылі да хрысьціянскіх цудаў.    Авось паможа!    Калі памаліцца Богу, абразам, паклікаць царкоўных іерархаў на шматлюдныя прапагандовыя шоу.\n"
     ]
    }
   ],
   "source": [
    "corp = Corpus('rus_parallel')\n",
    "results = corp.search('авось', numResults = 10)\n",
    "for result in results:\n",
    "    for i,target in enumerate(result):\n",
    "        print(i+1,target.transl.strip(),'\\n',target.text.strip())"
   ]
  },
  {
   "cell_type": "markdown",
   "metadata": {},
   "source": [
    "#### [Center of Chinese Linguistics corpus](http://ccl.pku.edu.cn:8080/ccl_corpus/index.jsp) \n",
    "##### Relevant parameters\n",
    "* **query**: str or list[str]: query or queries (currently only exact search by word or phrase is available)\n",
    "* **numResults**: int, default 100: number of results wanted\n",
    "* **subcorpus**: str, default `xiandai`: subcorpus. Available options: `xiandai` (modern Chinese) or `dugai` (ancient Chinese).\n",
    "* **nLeft**, **nRight**: int, default 30: context lenght (in symbols)\n",
    "\n",
    "##### Example of use"
   ]
  },
  {
   "cell_type": "code",
   "execution_count": 11,
   "metadata": {
    "collapsed": false
   },
   "outputs": [
    {
     "name": "stderr",
     "output_type": "stream",
     "text": [
      "\"能力#3大\": 100%|███████████████████████████████| 10/10 [00:04<00:00,  2.41docs/s]\n"
     ]
    },
    {
     "name": "stdout",
     "output_type": "stream",
     "text": [
      "1 ...的人生方向。每年韩国高考--\"大学修业能力考试\"举行当日，所有的公务员和私...\n",
      "2 ...学生的品德如何、修养怎样、生存能力大小、自立能力强弱等这些关系孩子生...\n",
      "3 ...索引擎从网络中获取信息的动力和能力；大学前的教育大多是在以教师为中心、...\n",
      "4 ...的信息化社会中，处理非确定信息能力的大小将会成为衡量一个教师作用大小的...\n",
      "5 ...，法国中、小学生识字和拼写法文能力大幅度下降。在一项对15岁学生法文...\n",
      "6 ...公司的股东能决定要如何使用生产能力。在更大的公司里，公司的权力架构通常有一...\n",
      "7 ...如某些弹性纤维就具有弹力(变形能力)大、屈光好、韧度高以及抗酸碱侵蚀性...\n",
      "8 ...缩小,导致国家对整个社会的控制能力大大降低。例如，在SARS防治需要...\n",
      "9 ...六，七岁）。幼儿的再认识和回忆能力有很大发展，回忆范围逐渐扩大了。其特点...\n",
      "10 ...来，拍起马来，比哪一个国家的人能力都大。因之这里所谓“私”的问题却是个...\n"
     ]
    }
   ],
   "source": [
    "corp = Corpus('zho')\n",
    "results = corp.search('能力#3大', numResults = 10, nLeft=15, nRight=15)\n",
    "for result in results:\n",
    "    for i,target in enumerate(result):\n",
    "        print(i+1,target.text)"
   ]
  }
 ],
 "metadata": {
  "anaconda-cloud": {},
  "kernelspec": {
   "display_name": "Python [conda env:python36]",
   "language": "python",
   "name": "conda-env-python36-py"
  },
  "language_info": {
   "codemirror_mode": {
    "name": "ipython",
    "version": 3
   },
   "file_extension": ".py",
   "mimetype": "text/x-python",
   "name": "python",
   "nbconvert_exporter": "python",
   "pygments_lexer": "ipython3",
   "version": "3.6.3"
  }
 },
 "nbformat": 4,
 "nbformat_minor": 1
}
